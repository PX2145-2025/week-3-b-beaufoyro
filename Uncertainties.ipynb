{
  "cells": [
    {
      "cell_type": "markdown",
      "metadata": {
        "id": "_1aelYQ8MrJD"
      },
      "source": [
        "# Feedback from previous weeks and other and hints\n",
        "\n",
        "1. Be careful about your environment remembering variables. Make sure your code works in a new _clean_ environment. In Colab: `Runtime`->`restart Runtime`, in Anaconda's Jupyter: `Kernel`->`Restart`.\n",
        "2. Graphs without labels (or units when appropriate) are not worth any point.\n",
        "3. Do put in sufficient explanatory comments in your code.\n",
        "4. Functions are very important. Do look up the video on the Safari O'Reilly ressource if you are still not clear on them !\n",
        "\n",
        "For this week you can use these imports at the start of your programs:"
      ]
    },
    {
      "cell_type": "code",
      "execution_count": null,
      "metadata": {
        "id": "v9ELpr_sMrJF"
      },
      "outputs": [],
      "source": [
        "import numpy as np\n",
        "import matplotlib.pyplot as plt"
      ]
    },
    {
      "cell_type": "markdown",
      "metadata": {
        "id": "3taKmPnVMrJG"
      },
      "source": [
        "We will use a new module `uncertainties`, which is **not** standard in the colab environment. You will have to first run:"
      ]
    },
    {
      "cell_type": "code",
      "execution_count": 3,
      "metadata": {
        "colab": {
          "base_uri": "https://localhost:8080/"
        },
        "id": "uddqLvKvMrJG",
        "outputId": "f81676ee-d22c-49a9-bbea-d58558535d88"
      },
      "outputs": [
        {
          "output_type": "stream",
          "name": "stdout",
          "text": [
            "\u001b[?25l   \u001b[90m━━━━━━━━━━━━━━━━━━━━━━━━━━━━━━━━━━━━━━━━\u001b[0m \u001b[32m0.0/60.1 kB\u001b[0m \u001b[31m?\u001b[0m eta \u001b[36m-:--:--\u001b[0m\r\u001b[2K   \u001b[90m━━━━━━━━━━━━━━━━━━━━━━━━━━━━━━━━━━━━━━━━\u001b[0m \u001b[32m60.1/60.1 kB\u001b[0m \u001b[31m4.2 MB/s\u001b[0m eta \u001b[36m0:00:00\u001b[0m\n",
            "\u001b[?25h"
          ]
        }
      ],
      "source": [
        "! pip install -q uncertainties"
      ]
    },
    {
      "cell_type": "markdown",
      "metadata": {
        "id": "gc1G22RwMrJH"
      },
      "source": [
        "To install the module before you can import it:"
      ]
    },
    {
      "cell_type": "code",
      "execution_count": null,
      "metadata": {
        "id": "NFTll49jMrJH"
      },
      "outputs": [],
      "source": [
        "import uncertainties as uc\n",
        "import uncertainties.umath as um # for maths functions"
      ]
    },
    {
      "cell_type": "markdown",
      "metadata": {
        "id": "ym9BzBYyMrJH"
      },
      "source": [
        "# Introduction\n",
        "In the practical classes PX2133/PX2233 and PX2338 (Obs tech), as well as your year 3/4 project, a lot of emphasis is placed on the determination and mathematical handling of errors.\n",
        "The uncertainties module allows us to deal very easily with [error propagation](https://en.wikipedia.org/wiki/Propagation_of_uncertainty). For this sheet you should remind yourself about error bars in measurements and about propagation of uncertainties. Take an example from your lab handbook:\n",
        "\n",
        "**Example 1**: If the length of a rectangle is $1.24\\pm0.02 m$ and its breadth is $0.61\\pm0.01 m$, what is its area and the error in the area? The following code snippet solves this problem in a few lines."
      ]
    },
    {
      "cell_type": "code",
      "execution_count": null,
      "metadata": {
        "id": "saYVu6GsMrJH",
        "outputId": "8ce4612c-62ec-4a9e-c5ef-82a995f61190"
      },
      "outputs": [
        {
          "name": "stdout",
          "output_type": "stream",
          "text": [
            "Area is: 0.756+/-0.017 m^2\n"
          ]
        }
      ],
      "source": [
        "L = uc.ufloat(1.24, 0.02)\n",
        "W = uc.ufloat(0.61, 0.01)\n",
        "print ('Area is:', L*W, 'm^2') # Do remember to add the units when printing!"
      ]
    },
    {
      "cell_type": "markdown",
      "metadata": {
        "id": "2bj3uaAUMrJI"
      },
      "source": [
        "**Note**: For the area itself, it's fairly straightforward:"
      ]
    },
    {
      "cell_type": "code",
      "execution_count": null,
      "metadata": {
        "id": "48wbEMboMrJI",
        "outputId": "a274efc3-02a2-444a-eb1e-855c14e9381f"
      },
      "outputs": [
        {
          "data": {
            "text/plain": [
              "0.7564"
            ]
          },
          "execution_count": 5,
          "metadata": {},
          "output_type": "execute_result"
        }
      ],
      "source": [
        "1.24*0.61"
      ]
    },
    {
      "cell_type": "markdown",
      "metadata": {
        "id": "a3_h8SxtMrJJ"
      },
      "source": [
        "However, for the error bar on this number:"
      ]
    },
    {
      "cell_type": "code",
      "execution_count": null,
      "metadata": {
        "id": "AnPC_fSjMrJJ",
        "outputId": "f2a25265-b192-49f2-a51b-138a1599228e"
      },
      "outputs": [
        {
          "data": {
            "text/plain": [
              "0.0002"
            ]
          },
          "execution_count": 6,
          "metadata": {},
          "output_type": "execute_result"
        }
      ],
      "source": [
        "0.02*0.01"
      ]
    },
    {
      "cell_type": "markdown",
      "metadata": {
        "id": "UzZrn6QCMrJJ"
      },
      "source": [
        "does not work. Instead, the [error progation formula](https://en.wikipedia.org/wiki/Propagation_of_uncertainty#Example_formulae) gives:"
      ]
    },
    {
      "cell_type": "code",
      "execution_count": null,
      "metadata": {
        "id": "8EpW-qIZMrJJ",
        "outputId": "58451c10-4092-45fc-bed9-44129a776b60"
      },
      "outputs": [
        {
          "data": {
            "text/plain": [
              "0.01739540169125163"
            ]
          },
          "execution_count": 7,
          "metadata": {},
          "output_type": "execute_result"
        }
      ],
      "source": [
        "np.abs(1.24*0.61)*np.sqrt((0.02/1.24)**2+(0.01/0.61)**2)"
      ]
    },
    {
      "cell_type": "markdown",
      "metadata": {
        "id": "R9p2q5nCMrJK"
      },
      "source": [
        "So the area is $0.756\\pm0.017 m^2$. `uncertainties` obviously saves a lot of work, even for such a simple case. You can also take a look at the web site uncertainties hosted at https://pythonhosted.org/uncertainties/user_guide.html. In particular, [this section](https://pythonhosted.org/uncertainties/user_guide.html#access-to-the-uncertainty-and-to-the-nominal-value) shows some of the properties of a `ufloat` you can access directly.\n",
        "\n",
        "**Example 2**: A reference object is $10.0\\pm0.0001 m$ long, and makes a viewing angle of $0.62\\pm0.02 rad$. How far is it?"
      ]
    },
    {
      "cell_type": "code",
      "execution_count": null,
      "metadata": {
        "id": "ZI0GZ5wyMrJK",
        "outputId": "b10ee5a0-6cc4-4908-9781-889738693d34"
      },
      "outputs": [
        {
          "name": "stdout",
          "output_type": "stream",
          "text": [
            "Distance is: 15.609024890896208 m, with an error of: 0.537283338762715\n"
          ]
        }
      ],
      "source": [
        "L = uc.ufloat(10.0, 0.0001)\n",
        "theta = uc.ufloat(0.62,0.02)\n",
        "\n",
        "Distance = (L/2)/um.tan(theta/2)\n",
        "\n",
        "print ('Distance is:', Distance.nominal_value, 'm, with an error of:', Distance.std_dev)"
      ]
    },
    {
      "cell_type": "markdown",
      "metadata": {
        "id": "mE9jJyJ7MrJK"
      },
      "source": [
        "Note the need to use \"umath\" functions (like `um.tan()` instead of `np.tan()`), and how to get the nominal value and the standard deviation of the uncertainties objects. To get nicer looking output, such as controlling the number of significant digits printed, you can use the information about formatting at https://docs.python.org/3/tutorial/inputoutput.html. In the exercises below you need to print the values to the screen. (Don’t forget units.)"
      ]
    },
    {
      "cell_type": "markdown",
      "metadata": {
        "id": "p-95W1iZMrJL"
      },
      "source": [
        "# Exercises\n",
        "This must be marked before you leave the lab. Mark weighting is in brackets.\n",
        "**Save your work to GitHub after having run all cells with `Runtime` -> `Restart and run all`. And do not change the notebook's filename.** Do add comments to your code, you'll lose points if your code is hard to understand. Graphs without labels (or units when appropriate) are not worth any point.\n",
        "\n",
        "## Exercise 0\n",
        "[0] With some approximations, we have measured the mass of the following black-holes:\n",
        "```\n",
        "\"35.6+/-3.9\",\"30.6+/-3.7\",\"63.1+/-3.2\",\"23.2+/-9.8\",\"13.6+/-4.5\",\"35.7+/-6.8\",\"13.7+/-6.0\",\"7.7+/-2.4\",\"20.5+/-4.0\"\n",
        "```\n",
        "Compute for each (with error-bars) their lifetime due to Hawking radiation:\n",
        "$$\n",
        "t = \\left(\\frac{M}{M_{\\odot}}\\right)^3\\,\\times\\,2.097\\,\\times\\,10^{67} yr\n",
        "$$\n",
        "\n",
        "(this exercise is for demonstration purposes and won't be marked)"
      ]
    },
    {
      "cell_type": "code",
      "execution_count": null,
      "metadata": {
        "id": "GRYjieFHMrJL"
      },
      "outputs": [],
      "source": []
    },
    {
      "cell_type": "markdown",
      "metadata": {
        "id": "_YFSxe9eMrJL"
      },
      "source": [
        "## Exercise 1\n",
        "[2] An object is measured to travel a distance $x = 5.1 \\pm 0.4 m$ during a time of $t = 0.4 \\pm 0.1 s$. What is the average velocity and the error in the average velocity?"
      ]
    },
    {
      "cell_type": "code",
      "execution_count": 4,
      "metadata": {
        "colab": {
          "base_uri": "https://localhost:8080/"
        },
        "id": "ZF3CDPPmMrJL",
        "outputId": "86825f75-f683-4c60-b276-ad6ea26bd3a7"
      },
      "outputs": [
        {
          "output_type": "stream",
          "name": "stdout",
          "text": [
            "Average velocity is: 12.7+/-3.3 m/s\n"
          ]
        }
      ],
      "source": [
        "import uncertainties as uc\n",
        "x = uc.ufloat(5.1, 0.4)  # distance in meters\n",
        "t = uc.ufloat(0.4, 0.1)  # time in seconds\n",
        "\n",
        "velocity = x / t\n",
        "\n",
        "print('Average velocity is:', velocity, 'm/s')"
      ]
    },
    {
      "cell_type": "markdown",
      "metadata": {
        "id": "MYtJ5yewMrJL"
      },
      "source": [
        "## Exercise 2\n",
        "[2] An enterprising cow attempts to jump over the moon by jumping vertically into the air with initial speed $v_0=4.0\\pm0.2 m/s$. After a time $t=0.60\\pm0.06s$, the height of the cow is $h = v_0t-\\frac{1}{2}g t^2 = 0.636 m$. What is the uncertainty in $h$? Take $g$ as exactly $9.81 ms^{-2}$."
      ]
    },
    {
      "cell_type": "code",
      "execution_count": 5,
      "metadata": {
        "colab": {
          "base_uri": "https://localhost:8080/"
        },
        "id": "LtnevvjnMrJL",
        "outputId": "6f3487bf-47f1-4be6-d65d-3b4d7226ea81"
      },
      "outputs": [
        {
          "output_type": "stream",
          "name": "stdout",
          "text": [
            "The height of the cow is: 0.63+/-0.16 m\n"
          ]
        }
      ],
      "source": [
        "import uncertainties as uc\n",
        "import uncertainties.umath as um\n",
        "\n",
        "v0 = uc.ufloat(4.0, 0.2) # initial velocity in m/s\n",
        "t = uc.ufloat(0.60, 0.06) # time in seconds\n",
        "g = 9.81 # acceleration due to gravity in m/s^2 (exact value)\n",
        "\n",
        "h = v0 * t - 0.5 * g * t**2\n",
        "\n",
        "print('The height of the cow is:', h, 'm')"
      ]
    },
    {
      "cell_type": "markdown",
      "metadata": {
        "id": "NovMnqfuMrJL"
      },
      "source": [
        "## Exercise 3\n",
        "[2] In an optics experiment the object distance $u$ is measured to be 20cm and the image distance $v$ is 10cm, both to an accuracy of 0.5cm. Find the focal length $f$ of the lens using the formula:\n",
        "\n",
        "$$ \\frac{1}{u}+\\frac{1}{v}=\\frac{1}{f}$$"
      ]
    },
    {
      "cell_type": "code",
      "execution_count": 6,
      "metadata": {
        "colab": {
          "base_uri": "https://localhost:8080/"
        },
        "id": "6bXy0veSMrJM",
        "outputId": "74371183-dc15-4715-a133-146c2a32c2f9"
      },
      "outputs": [
        {
          "output_type": "stream",
          "name": "stdout",
          "text": [
            "The focal length is: 6.67+/-0.23 cm\n"
          ]
        }
      ],
      "source": [
        "import uncertainties as uc\n",
        "import uncertainties.umath as um\n",
        "\n",
        "u = uc.ufloat(20, 0.5) # object distance in cm\n",
        "v = uc.ufloat(10, 0.5) # image distance in cm\n",
        "\n",
        "# Lens formula: 1/f = 1/u + 1/v\n",
        "f = 1 / (1/u + 1/v)\n",
        "\n",
        "print('The focal length is:', f, 'cm')"
      ]
    },
    {
      "cell_type": "markdown",
      "metadata": {
        "id": "pTTQ3ucPMrJM"
      },
      "source": [
        "## Exercise 4\n",
        "[2] Two students each measure the refractive index of water. Jack measures a value of $1.33 \\pm 0.03$ while Jill measures $1.28 \\pm 0.02$. Are these values in agreement? *You do have to think a bit about this one...*"
      ]
    },
    {
      "cell_type": "code",
      "execution_count": null,
      "metadata": {
        "id": "43Im5J_FMrJM"
      },
      "outputs": [],
      "source": []
    },
    {
      "cell_type": "code",
      "metadata": {
        "colab": {
          "base_uri": "https://localhost:8080/"
        },
        "id": "43Im5J_F_rJM",
        "outputId": "e984b4f6-538e-40e6-eee5-23bf7d315065"
      },
      "source": [
        "import uncertainties as uc\n",
        "\n",
        "jack_n = uc.ufloat(1.33, 0.03)\n",
        "jill_n = uc.ufloat(1.28, 0.02)\n",
        "\n",
        "difference = jack_n - jill_n\n",
        "\n",
        "print(f\"Jack's measurement: {jack_n}\")\n",
        "print(f\"Jill's measurement: {jill_n}\")\n",
        "print(f\"Difference: {difference}\")\n",
        "\n",
        "# Check for agreement\n",
        "# The values are in agreement if the absolute difference between the nominal values\n",
        "# is less than or equal to the sum of their standard deviations.\n",
        "if abs(difference.nominal_value) <= jack_n.std_dev + jill_n.std_dev:\n",
        "    print(\"The values are in agreement.\")\n",
        "else:\n",
        "    print(\"The values are not in agreement.\")"
      ],
      "execution_count": 7,
      "outputs": [
        {
          "output_type": "stream",
          "name": "stdout",
          "text": [
            "Jack's measurement: 1.330+/-0.030\n",
            "Jill's measurement: 1.280+/-0.020\n",
            "Difference: 0.05+/-0.04\n",
            "The values are not in agreement.\n",
            "The values are not in agreement (alternative check).\n"
          ]
        }
      ]
    },
    {
      "cell_type": "markdown",
      "metadata": {
        "id": "S-WcFtafMrJM"
      },
      "source": [
        "## Exercise 5\n",
        "[2] The damped resonance frequency $\\omega_{res}$ of an oscillating system is related to the (un-damped) natural angular frequency $\\omega_0$ and the damping coefficient $\\alpha$ by:\n",
        "\n",
        "$$\\omega_{res} = \\sqrt{ \\omega_0^2 - 2\\alpha^2}$$\n",
        "\n",
        "Find $f_0$ if the measured resonance frequency $f_{res}$ is $23.2\\pm0.1 Hz$ and the measured damping coefficient is $19.5\\pm0.5s^{-1}$.\n"
      ]
    },
    {
      "cell_type": "code",
      "execution_count": 8,
      "metadata": {
        "colab": {
          "base_uri": "https://localhost:8080/"
        },
        "id": "bLTt76ZiMrJM",
        "outputId": "e2a96434-fc96-4b82-b1a5-aebe768a335e"
      },
      "outputs": [
        {
          "output_type": "stream",
          "name": "stdout",
          "text": [
            "The undamped natural frequency f_0 is: 23.61+/-0.10 Hz\n"
          ]
        }
      ],
      "source": [
        "import uncertainties as uc\n",
        "import uncertainties.umath as um\n",
        "import numpy as np\n",
        "\n",
        "# Given values with uncertainties\n",
        "f_res = uc.ufloat(23.2, 0.1)  # Damped resonance frequency in Hz\n",
        "alpha = uc.ufloat(19.5, 0.5) # Damping coefficient in s^-1\n",
        "\n",
        "# Convert frequency from Hz to angular frequency (omega = 2*pi*f)\n",
        "omega_res = 2 * np.pi * f_res\n",
        "\n",
        "# The formula given is omega_res = sqrt(omega_0^2 - 2*alpha^2)\n",
        "omega_0 = um.sqrt(omega_res**2 + 2 * alpha**2)\n",
        "\n",
        "# Convert angular frequency back to frequency in Hz (f_0 = omega_0 / (2*pi))\n",
        "f_0 = omega_0 / (2 * np.pi)\n",
        "\n",
        "print('The undamped natural frequency f_0 is:', f_0, 'Hz')"
      ]
    },
    {
      "cell_type": "markdown",
      "metadata": {
        "id": "383Phn0kMrJM"
      },
      "source": [
        "## Exercise 6\n",
        "[2] Suppose you have the following equation from one of your lab experiments:\n",
        "\n",
        "$$f=\\frac{c}{2}\\sqrt{\\frac{n_x^2}{L_x^2}+\\frac{n_y^2}{L_y^2}+\\frac{n_z^2}{L_z^2}}$$\n",
        "\n",
        "where $f$ is the resonant frequency of sound waves in a box of sides $L_x$, $L_y$ and $L_z$ in length and the $n_x$ etc. are integers. $L_x = 10.2\\pm0.2m$, $L_y = 5.2\\pm0.3m$ and $L_z = 20.0\\pm0.1 m$, while $c = 331.3 + T * 0.606 \\,m\\,s^{-1}$ is the temperature-dependent speed of sound, and the temperature $T$ is $23 \\pm 1^\\circ C$.\n",
        "Calculate $f$ and the error in $f$ for the following values of $(nx,ny,nz)= (1,1,1), (1,1,2)$ and $(2,1,1)$.\n"
      ]
    },
    {
      "cell_type": "code",
      "execution_count": 13,
      "metadata": {
        "colab": {
          "base_uri": "https://localhost:8080/"
        },
        "id": "6zRhk04oMrJM",
        "outputId": "4b0efc32-9e83-40de-c90f-6ce0ee7037dd"
      },
      "outputs": [
        {
          "output_type": "stream",
          "name": "stdout",
          "text": [
            "For (nx, ny, nz) = (1, 1, 1), the resonant frequency f is: 38.247+/-1.670 Hz\n",
            "For (nx, ny, nz) = (1, 1, 2), the resonant frequency f is: 41.065+/-1.556 Hz\n",
            "For (nx, ny, nz) = (2, 1, 1), the resonant frequency f is: 48.188+/-1.402 Hz\n"
          ]
        }
      ],
      "source": [
        "import uncertainties as uc\n",
        "import uncertainties.umath as um\n",
        "import numpy as np\n",
        "\n",
        "# Given values with uncertainties\n",
        "Lx = uc.ufloat(10.2, 0.2)  # Length in x-direction in meters\n",
        "Ly = uc.ufloat(5.2, 0.3)   # Length in y-direction in meters\n",
        "Lz = uc.ufloat(20.0, 0.1)  # Length in z-direction in meters\n",
        "T = uc.ufloat(23, 1)      # Temperature in Celsius\n",
        "\n",
        "# Speed of sound formula\n",
        "c = 331.3 + T * 0.606  # Speed of sound in m/s\n",
        "\n",
        "# Resonant frequency formula\n",
        "def calculate_frequency(nx, ny, nz, c, Lx, Ly, Lz):\n",
        "  \"\"\"Calculates the resonant frequency with uncertainties.\"\"\"\n",
        "  return (c / 2) * um.sqrt((nx**2 / Lx**2) + (ny**2 / Ly**2) + (nz**2 / Lz**2))\n",
        "\n",
        "# Calculate and print frequency for each (nx, ny, nz) combination\n",
        "modes = [(1, 1, 1), (1, 1, 2), (2, 1, 1)]\n",
        "\n",
        "for nx, ny, nz in modes:\n",
        "  f = calculate_frequency(nx, ny, nz, c, Lx, Ly, Lz)\n",
        "  print(f'For (nx, ny, nz) = ({nx}, {ny}, {nz}), the resonant frequency f is: {f:.3f} Hz')"
      ]
    },
    {
      "cell_type": "markdown",
      "metadata": {
        "id": "IXj92QPcMrJN"
      },
      "source": [
        "## Exercise 7\n",
        "[4] The reflection coefficient $R_\\parallel$ for parallel plane-polarised light reflected from a surface is given by the equation:\n",
        "\n",
        "$$ R_\\parallel = \\frac{\\tan^2(\\theta_i - \\theta_t)}{\\tan^2(\\theta_i + \\theta_t)} $$\n",
        "\n",
        "Calculate the error in $R_\\parallel$ given measurements $\\theta_i = (78 \\pm 1)^\\circ$ and $\\theta_t = (40 \\pm 1)^\\circ$."
      ]
    },
    {
      "cell_type": "code",
      "execution_count": 11,
      "metadata": {
        "colab": {
          "base_uri": "https://localhost:8080/"
        },
        "id": "BNl4fW5-MrJN",
        "outputId": "ca964ffa-9f54-4656-f031-001fb3e5d9bb"
      },
      "outputs": [
        {
          "output_type": "stream",
          "name": "stdout",
          "text": [
            "The reflection coefficient R_parallel is: 0.173+/-0.027\n"
          ]
        }
      ],
      "source": [
        "import uncertainties as uc\n",
        "import uncertainties.umath as um\n",
        "import numpy as np\n",
        "\n",
        "# Given values with uncertainties in degrees, convert to radians\n",
        "theta_i_deg = uc.ufloat(78, 1)\n",
        "theta_t_deg = uc.ufloat(40, 1)\n",
        "\n",
        "theta_i_rad = um.radians(theta_i_deg)\n",
        "theta_t_rad = um.radians(theta_t_deg)\n",
        "\n",
        "\n",
        "# Reflection coefficient formula\n",
        "R_parallel = (um.tan(theta_i_rad - theta_t_rad))**2 / (um.tan(theta_i_rad + theta_t_rad))**2\n",
        "\n",
        "print('The reflection coefficient R_parallel is:', R_parallel)"
      ]
    },
    {
      "cell_type": "markdown",
      "metadata": {
        "id": "1iFbUL1gMrJN"
      },
      "source": [
        "## Exercise 8\n",
        "[4] Calculate and print to the screen the fractional uncertainty, as a percentage to one\n",
        "significant figure, of the fluid flow discharge coefficient $C_d$ from the equation\n",
        "\n",
        "$$\n",
        "C_d = \\frac{\\dot{m}\\sqrt{1-\\left(\\frac{d}{D}\\right)^4}}{Kd^2F\\sqrt{\\rho\\Delta P}}\n",
        "$$\n",
        "\n",
        "where\n",
        "\n",
        "\\begin{align*}\n",
        "    C_d &= \\text{discharge coefficient}&& \\text{(no units)} \\\\\n",
        "    \\dot{m} &= \\text{mass flow rate}&& = 0.13 \\pm 0.01kg\\,s^{-1} \\\\\n",
        "    d &= \\text{orifice diameter}&& = 11\\pm 1 mm \\\\\n",
        "    D &= \\text{pipe diameter}&& = 71 \\pm 1 mm \\\\\n",
        "    \\rho &= \\text{fluid density}&& =1.01\\pm0.01g\\,cm^{-3} \\\\\n",
        "    \\Delta P &= \\text{differential pressure}&& =156 \\pm 7 Pa \\\\\n",
        "    K &= \\text{a constant parameter}&& =\\text{constant (no units)} \\\\\n",
        "    F &= \\text{thermal expansion factor}&& =\\text{constant (no units)}\n",
        "\\end{align*}\n"
      ]
    },
    {
      "cell_type": "code",
      "execution_count": 10,
      "metadata": {
        "colab": {
          "base_uri": "https://localhost:8080/"
        },
        "id": "zr5JrhEUMrJN",
        "outputId": "2b391ae0-fc74-475a-d03a-39571a91b6e2"
      },
      "outputs": [
        {
          "output_type": "stream",
          "name": "stdout",
          "text": [
            "The discharge coefficient Cd is: 2.7+/-0.5\n",
            "The fractional uncertainty in Cd is: 2e+01%\n"
          ]
        }
      ],
      "source": [
        "import uncertainties as uc\n",
        "import uncertainties.umath as um\n",
        "import numpy as np\n",
        "\n",
        "# Given values with uncertainties\n",
        "m_dot = uc.ufloat(0.13, 0.01) # mass flow rate in kg/s\n",
        "d = uc.ufloat(11e-3, 1e-3)   # orifice diameter in m (converted from mm)\n",
        "D = uc.ufloat(71e-3, 1e-3)   # pipe diameter in m (converted from mm)\n",
        "rho = uc.ufloat(1.01e3, 0.01e3) # fluid density in kg/m^3 (converted from g/cm^3)\n",
        "Delta_P = uc.ufloat(156, 7)  # differential pressure in Pa\n",
        "\n",
        "# K and F are constants, so they have no uncertainty.\n",
        "K = 1\n",
        "F = 1\n",
        "\n",
        "# Discharge coefficient formula\n",
        "Cd = (m_dot * um.sqrt(1 - (d/D)**4)) / (K * d**2 * F * um.sqrt(rho * Delta_P))\n",
        "\n",
        "# Calculate fractional uncertainty as a percentage\n",
        "fractional_uncertainty = (Cd.std_dev / abs(Cd.nominal_value)) * 100\n",
        "\n",
        "print(f\"The discharge coefficient Cd is: {Cd}\")\n",
        "print(f\"The fractional uncertainty in Cd is: {fractional_uncertainty:.1g}%\")"
      ]
    },
    {
      "cell_type": "markdown",
      "metadata": {
        "id": "JVAcpvF8MrJN"
      },
      "source": [
        "## Exercise 9: Optional problem (not marked)\n",
        "If you have time and want to try something interesting, do the following problem by plotting in 2D:\n",
        " - Draw an equilateral triangle with vertices and coordinates: vertex 1: $(p_1,q_1)$; vertex 2: $(p_2, q_2)$; vertex 3: $(p_3, q_3)$.\n",
        " - Place a dot at an arbitrary point $P = (x_0, y_0)$ within this triangle.\n",
        " - Find the next point by selecting randomly an integer $n = 1 , 2, $  or $3$ :\n",
        "    1. If 1 , place a dot halfway between P and vertex 1.\n",
        "    2. If 2 , place a dot halfway between P and vertex 2.\n",
        "    3. If 3 , place a dot halfway between P and vertex 3.\n",
        " - Repeat the last two steps using the last dot as the new P.\n",
        "\n",
        "Mathematically, the coordinates of successive points are given by the formulae\n",
        "\n",
        "$$(x_{i+1},y_{i+1})=0.5[(x_i,y_i)+(p_n,q_n)]$$\n",
        "\n",
        "and\n",
        "\n",
        "$$n=int(1+3r_i),$$\n",
        "\n",
        "where $r_i$ is a random number between 0 and 1 and where the $int()$ function outputs the closest integer smaller than or equal to the argument.\n",
        "\n",
        "Try extending this to four vertices."
      ]
    },
    {
      "cell_type": "code",
      "execution_count": null,
      "metadata": {
        "id": "nTEU7F9OMrJO"
      },
      "outputs": [],
      "source": []
    }
  ],
  "metadata": {
    "kernelspec": {
      "display_name": "Python 3",
      "language": "python",
      "name": "python3"
    },
    "language_info": {
      "codemirror_mode": {
        "name": "ipython",
        "version": 3
      },
      "file_extension": ".py",
      "mimetype": "text/x-python",
      "name": "python",
      "nbconvert_exporter": "python",
      "pygments_lexer": "ipython3",
      "version": "3.7.10"
    },
    "colab": {
      "provenance": []
    }
  },
  "nbformat": 4,
  "nbformat_minor": 0
}